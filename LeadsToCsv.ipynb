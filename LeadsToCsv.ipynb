{
 "cells": [
  {
   "cell_type": "markdown",
   "id": "784dd1a9",
   "metadata": {},
   "source": [
    "*FAZENDO REQUEST AO SERVER SPONTE*"
   ]
  },
  {
   "cell_type": "code",
   "execution_count": 59,
   "id": "94258cbb",
   "metadata": {},
   "outputs": [],
   "source": [
    "import requests\n",
    "import pandas as pd\n",
    "\n",
    "baseUrl = (\"https://api.sponteeducacional.net.br\")\n",
    "Url_ = (\"/WSAPIEdu.asmx/GetAlunos?nCodigoCliente=COD&sToken=TOKEN&sParametrosBusca=situacao=-3\")\n",
    "\n",
    "Url = (baseUrl + Url_)\n",
    "\n",
    "leads_ = requests.get(Url)"
   ]
  },
  {
   "cell_type": "markdown",
   "id": "14a97996",
   "metadata": {},
   "source": [
    "*TRANSFORMANDO EM CSV*"
   ]
  },
  {
   "cell_type": "code",
   "execution_count": 61,
   "id": "16c2d4e0",
   "metadata": {},
   "outputs": [],
   "source": [
    "leads_xml = pd.read_xml(leads_.text)\n",
    "data_csv = pd.DataFrame.to_csv(leads_xml)\n",
    "\n",
    "with open (\"leads.csv\", \"w\") as f:\n",
    "    f.write(data_csv)"
   ]
  }
 ],
 "metadata": {
  "kernelspec": {
   "display_name": "Python 3 (ipykernel)",
   "language": "python",
   "name": "python3"
  },
  "language_info": {
   "codemirror_mode": {
    "name": "ipython",
    "version": 3
   },
   "file_extension": ".py",
   "mimetype": "text/x-python",
   "name": "python",
   "nbconvert_exporter": "python",
   "pygments_lexer": "ipython3",
   "version": "3.9.13"
  }
 },
 "nbformat": 4,
 "nbformat_minor": 5
}
